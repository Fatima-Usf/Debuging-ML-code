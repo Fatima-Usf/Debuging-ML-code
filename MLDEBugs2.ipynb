{
  "nbformat": 4,
  "nbformat_minor": 0,
  "metadata": {
    "colab": {
      "name": "Quizz4.ipynb",
      "provenance": [],
      "authorship_tag": "ABX9TyPpsUCgCxl3ru9VmiF7wO3e",
      "include_colab_link": true
    },
    "kernelspec": {
      "name": "python3",
      "display_name": "Python 3"
    }
  },
  "cells": [
    {
      "cell_type": "markdown",
      "metadata": {
        "id": "view-in-github",
        "colab_type": "text"
      },
      "source": [
        "<a href=\"https://colab.research.google.com/github/Fatima-Usf/Debuging-ML-code/blob/main/MLDEBugs2.ipynb\" target=\"_parent\"><img src=\"https://colab.research.google.com/assets/colab-badge.svg\" alt=\"Open In Colab\"/></a>"
      ]
    },
    {
      "cell_type": "code",
      "metadata": {
        "id": "tSdoNG2M8bTz",
        "outputId": "4ab34635-3399-4b64-b35c-96043f5e5486",
        "colab": {
          "base_uri": "https://localhost:8080/",
          "height": 34
        }
      },
      "source": [
        "# ======================================================================\n",
        "# Bagging example with cross-validation\n",
        "# ======================================================================\n",
        "print(__doc__)\n",
        "from sklearn.model_selection import cross_val_score\n",
        "from sklearn.datasets import load_iris\n",
        "#Import Bagging ensemble model\n",
        "from sklearn.ensemble import BaggingClassifier\n",
        "#Import Tree model as a base classifier\n",
        "from sklearn import tree\n",
        "iris = load_iris()\n",
        "X, y = iris.data, iris.target"
      ],
      "execution_count": 1,
      "outputs": [
        {
          "output_type": "stream",
          "text": [
            "Automatically created module for IPython interactive environment\n"
          ],
          "name": "stdout"
        }
      ]
    },
    {
      "cell_type": "code",
      "metadata": {
        "id": "d4ZJo1gf9DWR",
        "outputId": "1998cd7a-d5a8-4169-aa44-9365a8974cbc",
        "colab": {
          "base_uri": "https://localhost:8080/",
          "height": 51
        }
      },
      "source": [
        "#BaggingClassifier(base_estimator = None, n_estimators = 10, max_samples= 1.0,max_features = 1.0, bootstrap = True, bootstrap_features = False, oob_score = False,warm_start = False, n_jobs = None, random_state = None, verbose = 0)” “ “\n",
        "#Create a Bagging Ensemble Classifier\n",
        "model = BaggingClassifier(tree.DecisionTreeClassifier(),\n",
        "max_samples = 0.5, max_features = 0.5)\n",
        "CV = 10 #10-Fold Cross Validation\n",
        "#Evaluate Model Using 10-Fold Cross Validation and Print Performance Metrics\n",
        "Acc_scores = cross_val_score(model, X, y, cv = CV)\n",
        "print(\"Accuracy: %0.3f (+/- %0.3f)\" % (Acc_scores.mean(), Acc_scores.\n",
        "std() * 2))\n",
        "f1_scores = cross_val_score(model, X, y, cv = CV,scoring = 'f1_macro')\n",
        "print(\"F1 score: %0.3f (+/- %0.3f)\" % (f1_scores.mean(), f1_scores.std()\n",
        "* 2))"
      ],
      "execution_count": 2,
      "outputs": [
        {
          "output_type": "stream",
          "text": [
            "Accuracy: 0.960 (+/- 0.088)\n",
            "F1 score: 0.952 (+/- 0.088)\n"
          ],
          "name": "stdout"
        }
      ]
    },
    {
      "cell_type": "code",
      "metadata": {
        "id": "19DKbSmU9LmO",
        "outputId": "e96226bb-4217-48d5-b661-efbb1376b805",
        "colab": {
          "base_uri": "https://localhost:8080/",
          "height": 68
        }
      },
      "source": [
        "Precision_scores = cross_val_score(model, X, y,\n",
        "cv = CV,scoring = 'precision_macro')\n",
        "print(\"Precision score: %0.3f (+/- %0.3f)\" % (Precision_scores.mean(), Precision_scores.std() * 2))\n",
        "Recall_scores = cross_val_score(model, X, y, cv = CV,scoring = 'recall_macro')\n",
        "print(\"Recall score: %0.3f (+/- %0.3f)\" % (Recall_scores.mean(), Recall_scores.std() * 2))\n",
        "from sklearn.metrics import cohen_kappa_score, make_scorer\n",
        "kappa_scorer = make_scorer(cohen_kappa_score)\n",
        "Kappa_scores = cross_val_score(model, X, y, cv = CV,scoring = kappa_scorer)\n",
        "print(\"Kapa score: %0.3f (+/- %0.3f)\" % (Kappa_scores.mean(), Kappa_scores.std() * 2))"
      ],
      "execution_count": 3,
      "outputs": [
        {
          "output_type": "stream",
          "text": [
            "Precision score: 0.956 (+/- 0.130)\n",
            "Recall score: 0.953 (+/- 0.061)\n",
            "Kapa score: 0.930 (+/- 0.180)\n"
          ],
          "name": "stdout"
        }
      ]
    }
  ]
}