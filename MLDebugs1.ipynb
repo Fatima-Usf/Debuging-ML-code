{
  "nbformat": 4,
  "nbformat_minor": 0,
  "metadata": {
    "kernelspec": {
      "display_name": "Python 3",
      "language": "python",
      "name": "python3"
    },
    "language_info": {
      "codemirror_mode": {
        "name": "ipython",
        "version": 3
      },
      "file_extension": ".py",
      "mimetype": "text/x-python",
      "name": "python",
      "nbconvert_exporter": "python",
      "pygments_lexer": "ipython3",
      "version": "3.6.6"
    },
    "colab": {
      "name": "debuging ML bugs .ipynb",
      "provenance": [],
      "include_colab_link": true
    }
  },
  "cells": [
    {
      "cell_type": "markdown",
      "metadata": {
        "id": "view-in-github",
        "colab_type": "text"
      },
      "source": [
        "<a href=\"https://colab.research.google.com/github/Fatima-Usf/Debuging-ML-code/blob/main/MLDebugs1.ipynb\" target=\"_parent\"><img src=\"https://colab.research.google.com/assets/colab-badge.svg\" alt=\"Open In Colab\"/></a>"
      ]
    },
    {
      "cell_type": "code",
      "metadata": {
        "id": "j63bc-E93jkC"
      },
      "source": [
        "import time\n",
        "import numpy as np\n",
        "from sklearn.datasets import fetch_openml\n",
        "# Import train_test_split function\n",
        "from sklearn.model_selection import train_test_split\n",
        "from sklearn.preprocessing import StandardScaler\n",
        "from sklearn.utils import check_random_state\n",
        "#Import Bagging ensemble model\n",
        "# -> first error is BaggingClassifier - one s missing\n",
        "from sklearn.ensemble import BaggingClassifier\n",
        "#Import Tree model as a base classifier\n",
        "from sklearn import tree"
      ],
      "execution_count": 1,
      "outputs": []
    },
    {
      "cell_type": "code",
      "metadata": {
        "id": "cRFUsYb43jkK",
        "outputId": "e660fd21-d39a-410e-a3bc-5929d3e2a17a"
      },
      "source": [
        "print(__doc__)\n"
      ],
      "execution_count": null,
      "outputs": [
        {
          "output_type": "stream",
          "text": [
            "Automatically created module for IPython interactive environment\n"
          ],
          "name": "stdout"
        }
      ]
    },
    {
      "cell_type": "code",
      "metadata": {
        "id": "3b5j8rN23jkW"
      },
      "source": [
        "# Turn down for faster convergence\n",
        "train_samples = 5000"
      ],
      "execution_count": null,
      "outputs": []
    },
    {
      "cell_type": "code",
      "metadata": {
        "id": "vAartqPx3jkb"
      },
      "source": [
        "# Load data from https://www.openml.org/d/554\n",
        "X, y = fetch_openml('mnist_784', version = 1, return_X_y = True)\n",
        "random_state = check_random_state(0)\n",
        "permutation = random_state.permutation(X.shape[0])\n",
        "X = X[permutation]\n",
        "y = y[permutation]\n",
        "X = X.reshape((X.shape[0], -1))\n",
        "# Split dataset into training set and test set\n",
        "# 70% training and 30% test\n",
        "# -> Xtrain, Xtest, ytrain, ytest = train_test_split(X, y,test_size = 0.3, we should add the random state here\n",
        "Xtrain, Xtest, ytrain, ytest = train_test_split(X, y, test_size = 0.3, random_state = 0)\n"
      ],
      "execution_count": null,
      "outputs": []
    },
    {
      "cell_type": "code",
      "metadata": {
        "id": "zseiqbqE3jkh"
      },
      "source": [
        "scaler = StandardScaler()\n",
        "Xtrain = scaler.fit_transform(Xtrain)\n",
        "Xtest = scaler.transform(Xtest)"
      ],
      "execution_count": null,
      "outputs": []
    },
    {
      "cell_type": "code",
      "metadata": {
        "id": "D8hlj_Ec3jkn"
      },
      "source": [
        "#Create a Bagging Ensemble Classifier\n",
        "#BaggingClassifier(base_estimator = None, n_estimators = 10, max_samples= 1.0, max_features = 1.0, bootstrap = True, bootstrap_features = False, oob_ score = False,warm_start = False, n_jobs = None, random_state = None, verbose = 0)\n",
        "bagging = BaggingClassifier(tree.DecisionTreeClassifier(),max_samples = 0.5, max_features = 0.5)\n",
        "#Train the model using the training sets\n",
        "bagging.fit(Xtrain,ytrain)\n",
        "#Predict the response for test dataset\n",
        "ypred = bagging.predict(Xtest)\n"
      ],
      "execution_count": null,
      "outputs": []
    },
    {
      "cell_type": "code",
      "metadata": {
        "id": "BrHGtuov3jkt",
        "outputId": "3a6140d7-b07b-4e40-d7df-f4867b860db8"
      },
      "source": [
        "#Evaluate the Model and Print Performance Metrics\n",
        "\n",
        "from sklearn import metrics\n",
        "print('Accuracy:', np.round(metrics.accuracy_score(ytest,ypred),4))\n",
        "print('Precision:', np.round(metrics.precision_score(ytest,ypred,average = 'weighted'),4))\n",
        "print('Recall:', np.round(metrics.recall_score(ytest,ypred, average = 'weighted'),4))\n",
        "print('F1 Score:', np.round(metrics.f1_score(ytest,ypred, average = 'weighted'),4))\n",
        "print('Cohen Kappa Score:', np.round(metrics.cohen_kappa_score(ytest,ypred),4))\n",
        "print('Matthews Corrcoef:', np.round(metrics.matthews_corrcoef(ytest,ypred),4))\n",
        "print('\\t\\tClassification Report:\\n', metrics.classification_report(ypred,ytest))"
      ],
      "execution_count": null,
      "outputs": [
        {
          "output_type": "stream",
          "text": [
            "Accuracy: 0.9412\n",
            "Precision: 0.9413\n",
            "Recall: 0.9412\n",
            "F1 Score: 0.9412\n",
            "Cohen Kappa Score: 0.9346\n",
            "Matthews Corrcoef: 0.9347\n",
            "\t\tClassification Report:\n",
            "               precision    recall  f1-score   support\n",
            "\n",
            "           0       0.98      0.96      0.97      2015\n",
            "           1       0.98      0.97      0.97      2417\n",
            "           2       0.95      0.90      0.92      2204\n",
            "           3       0.92      0.93      0.92      2188\n",
            "           4       0.94      0.93      0.93      2023\n",
            "           5       0.92      0.94      0.93      1874\n",
            "           6       0.95      0.96      0.96      2002\n",
            "           7       0.95      0.96      0.95      2185\n",
            "           8       0.91      0.93      0.92      2027\n",
            "           9       0.91      0.93      0.92      2065\n",
            "\n",
            "    accuracy                           0.94     21000\n",
            "   macro avg       0.94      0.94      0.94     21000\n",
            "weighted avg       0.94      0.94      0.94     21000\n",
            "\n"
          ],
          "name": "stdout"
        }
      ]
    },
    {
      "cell_type": "code",
      "metadata": {
        "id": "xFu420Jo3jkz",
        "outputId": "0621b4bc-4e78-4052-c5e7-5ad398279707"
      },
      "source": [
        "from sklearn.metrics import confusion_matrix\n",
        "print(\"Confusion Matrix:\\n\",confusion_matrix(ytest, ypred))\n",
        "#Plot Confusion Matrix\n",
        "from sklearn.metrics import confusion_matrix\n",
        "from io import BytesIO #neded for plot\n",
        "import seaborn as sns; sns.set()\n",
        "import matplotlib.pyplot as plt\n",
        "mat = confusion_matrix(ytest, ypred)\n",
        "sns.heatmap(mat.T, square = True, annot = True, fmt = 'd', cbar = False)\n",
        "plt.xlabel('true label')\n",
        "plt.ylabel('predicted label')"
      ],
      "execution_count": null,
      "outputs": [
        {
          "output_type": "stream",
          "text": [
            "Confusion Matrix:\n",
            " [[1937    2   14    2    2    6    4    1   10    0]\n",
            " [   1 2352   19    9    5    5    6    5    7    1]\n",
            " [  14    2 1983   32   11    0   11   21   13    6]\n",
            " [   7    5   61 2024    2   36    1   20   25   18]\n",
            " [   8    2   11    6 1882    8   12    6   11   57]\n",
            " [  11    9   11   45   11 1753   24    2   27    7]\n",
            " [  18    4   22    0   16   15 1930    0   15    1]\n",
            " [   2   15   34   18   15    0    0 2089    6   18]\n",
            " [   9   20   29   28   23   29   13    7 1888   30]\n",
            " [   8    6   20   24   56   22    1   34   25 1927]]\n"
          ],
          "name": "stdout"
        },
        {
          "output_type": "execute_result",
          "data": {
            "text/plain": [
              "Text(89.18, 0.5, 'predicted label')"
            ]
          },
          "metadata": {
            "tags": []
          },
          "execution_count": 25
        },
        {
          "output_type": "display_data",
          "data": {
            "image/png": "[encoded data removed]",
            "text/plain": [
              "<Figure size 432x288 with 1 Axes>"
            ]
          },
          "metadata": {
            "tags": []
          }
        }
      ]
    },
    {
      "cell_type": "code",
      "metadata": {
        "id": "D9AdIEUo3jk5",
        "outputId": "7065a181-0154-455d-d073-75eb460b5490"
      },
      "source": [
        "plt.savefig(\"Confusion.jpg\")\n",
        "# Save SVG in a fake file object.\n",
        "f = BytesIO()\n",
        "plt.savefig(f, format = \"svg\")"
      ],
      "execution_count": null,
      "outputs": [
        {
          "output_type": "display_data",
          "data": {
            "text/plain": [
              "<Figure size 432x288 with 0 Axes>"
            ]
          },
          "metadata": {
            "tags": []
          }
        }
      ]
    },
    {
      "cell_type": "code",
      "metadata": {
        "id": "XMn8OC7u3jlA"
      },
      "source": [
        ""
      ],
      "execution_count": null,
      "outputs": []
    }
  ]
}