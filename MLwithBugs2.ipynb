# ======================================================================
# Bagging example with cross-validation
# ======================================================================
print(__doc__)
from sklearn.model_selection import cross_val_score
from sklearn.datasets import load_iris
#Import Bagging ensemble model
from sklearn.ensemble import BaggingClassifier
#Import Tree model as a base classifier
from sklearn import tree
iris = load_iris()
X, y = iris.data, iris.target
"""BaggingClassifier(base_estimator = None, n_estimators = 10, max_samples
= 1.0,
max_features = 1.0, bootstrap = True, bootstrap_features = False, oob_
score = False,
warm_start = False, n_jobs = None, random_state = None, verbose = 0)” “ “
#Create a Bagging Ensemble Classifier
model = BaggingClassifier(tree.DecisionTreeClassifier(),
max_samples = 0.5, max_features = 0.5)
CV = 10 #10-Fold Cross Validation
#Evaluate Model Using 10-Fold Cross Validation and Print Performance
Metrics
Acc_scores = cross_val_score(model, X, y, cv = CV)
print("Accuracy: %0.3f (+/- %0.3f)" % (Acc_scores.mean(), Acc_scores.
std() * 2))
f1_scores = cross_val_score(model, X, y, cv = CV,scoring = 'f1_macro')
print("F1 score: %0.3f (+/- %0.3f)" % (f1_scores.mean(), f1_scores.std()
Precision_scores = cross_val_score(model, X, y,
cv = CV,scoring = 'precision_macro')
print("Precision score: %0.3f (+/- %0.3f)" % (Precision_scores.mean(),
Precision_scores.std() * 2))
Recall_scores = cross_val_score(model, X, y, cv = CV,scoring = 'recall_macro')
print("Recall score: %0.3f (+/- %0.3f)" % (Recall_scores.mean(), Recall_
scores.std() * 2))
from sklearn.metrics import cohen_kapa_score, make_scorer
kappa_scorer = make_scorer(cohen_kappa_score)
Kappa_scores = cross_val_score(model, X, y, cv = CV,scoring = kappa_scorer)
print("Kapa score: %0.3f (+/- %0.3f)" % (Kapa_scores.mean(), Kapa_
scores.std() * 2))
